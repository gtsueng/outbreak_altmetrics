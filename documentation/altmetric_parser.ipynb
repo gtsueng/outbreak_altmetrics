{
 "cells": [
  {
   "cell_type": "code",
   "execution_count": 1,
   "id": "dba1284f",
   "metadata": {},
   "outputs": [],
   "source": [
    "import os\n",
    "import json\n",
    "\n",
    "def find_gen_path():\n",
    "    tmp_dir = os.getcwd()\n",
    "    while 'covid_altmetrics' not in os.listdir(tmp_dir):\n",
    "        tmp_dir = os.path.dirname(tmp_dir)\n",
    "    return(tmp_dir)\n",
    "\n",
    "def load_annotations():\n",
    "    #HOME_DIR = '/opt/home/outbreak'\n",
    "    #altmetrics_file =  os.path.join(HOME_DIR, 'covid_altmetrics', 'results', 'altmetric_annotations.json')\n",
    "    gen_path = find_gen_path()\n",
    "    altmetrics_file = os.path.join(gen_path,'covid_altmetrics','results','altmetric_annotations.json')\n",
    "    with open(altmetrics_file,'r') as inputfile:\n",
    "        altdump = json.load(inputfile)\n",
    "    for eachdict in altdump:\n",
    "        yield(eachdict)        \n"
   ]
  },
  {
   "cell_type": "code",
   "execution_count": 5,
   "id": "e7b50b2a",
   "metadata": {},
   "outputs": [
    {
     "name": "stdout",
     "output_type": "stream",
     "text": [
      "{'_id': 'NCT03348670', 'evaluations': [{'@type': 'AggregateRating', 'author': {'@type': 'Organization', 'identifier': 'altmetric', 'name': 'Altmetric', 'affiliation': ['Digital Science'], 'curationDate': '2021-11-24'}, 'identifier': 32913356, 'url': 'http://www.altmetric.com/details.php?citation_id=32913356', 'image': 'https://badges.altmetric.com/?size=64&score=2&types=tttttttt', 'name': 'Altmetric', 'reviewAspect': 'Altmetric score', 'ratingValue': 1.5, 'reviews': [{'@type': 'Review', 'reviewAspect': 'cited_by_fbwalls_count', 'reviewRating': {'ratingValue': 0}}, {'@type': 'Review', 'reviewAspect': 'cited_by_feeds_count', 'reviewRating': {'ratingValue': 0}}, {'@type': 'Review', 'reviewAspect': 'cited_by_gplus_count', 'reviewRating': {'ratingValue': 0}}, {'@type': 'Review', 'reviewAspect': 'cited_by_msm_count', 'reviewRating': {'ratingValue': 0}}, {'@type': 'Review', 'reviewAspect': 'cited_by_posts_count', 'reviewRating': {'ratingValue': 2}}, {'@type': 'Review', 'reviewAspect': 'cited_by_rdts_count', 'reviewRating': {'ratingValue': 0}}, {'@type': 'Review', 'reviewAspect': 'cited_by_tweeters_count', 'reviewRating': {'ratingValue': 2}}, {'@type': 'Review', 'reviewAspect': 'cited_by_videos_count', 'reviewRating': {'ratingValue': 0}}, {'@type': 'Review', 'reviewAspect': 'cited_by_accounts_count', 'reviewRating': {'ratingValue': 2}}, {'@type': 'Review', 'reviewAspect': 'readers_count', 'reviewRating': {'ratingValue': 0}}, {'@type': 'Review', 'reviewAspect': 'citeulike reader count', 'reviewRating': {'ratingValue': 0}}, {'@type': 'Review', 'reviewAspect': 'mendeley reader count', 'reviewRating': {'ratingValue': 0}}, {'@type': 'Review', 'reviewAspect': 'connotea reader count', 'reviewRating': {'ratingValue': 0}}]}]}\n",
      "{'_id': 'pmid32835433', 'evaluations': [{'@type': 'AggregateRating', 'author': {'@type': 'Organization', 'identifier': 'altmetric', 'name': 'Altmetric', 'affiliation': ['Digital Science'], 'curationDate': '2021-11-24'}, 'identifier': 90575286, 'url': 'http://www.altmetric.com/details.php?citation_id=90575286', 'image': 'https://badges.altmetric.com/?size=64&score=11&types=mmmmtttt', 'name': 'Altmetric', 'reviewAspect': 'Altmetric score', 'ratingValue': 11, 'reviews': [{'@type': 'Review', 'reviewAspect': 'cited_by_fbwalls_count', 'reviewRating': {'ratingValue': 0}}, {'@type': 'Review', 'reviewAspect': 'cited_by_feeds_count', 'reviewRating': {'ratingValue': 0}}, {'@type': 'Review', 'reviewAspect': 'cited_by_gplus_count', 'reviewRating': {'ratingValue': 0}}, {'@type': 'Review', 'reviewAspect': 'cited_by_msm_count', 'reviewRating': {'ratingValue': 1}}, {'@type': 'Review', 'reviewAspect': 'cited_by_posts_count', 'reviewRating': {'ratingValue': 2}}, {'@type': 'Review', 'reviewAspect': 'cited_by_rdts_count', 'reviewRating': {'ratingValue': 0}}, {'@type': 'Review', 'reviewAspect': 'cited_by_tweeters_count', 'reviewRating': {'ratingValue': 1}}, {'@type': 'Review', 'reviewAspect': 'cited_by_videos_count', 'reviewRating': {'ratingValue': 0}}, {'@type': 'Review', 'reviewAspect': 'cited_by_accounts_count', 'reviewRating': {'ratingValue': 2}}, {'@type': 'Review', 'reviewAspect': 'readers_count', 'reviewRating': {'ratingValue': 32}}, {'@type': 'Review', 'reviewAspect': 'citeulike reader count', 'reviewRating': {'ratingValue': 0}}, {'@type': 'Review', 'reviewAspect': 'mendeley reader count', 'reviewRating': {'ratingValue': 32}}, {'@type': 'Review', 'reviewAspect': 'connotea reader count', 'reviewRating': {'ratingValue': 0}}]}]}\n"
     ]
    }
   ],
   "source": [
    "gen_path = find_gen_path()\n",
    "altmetrics_file = os.path.join(gen_path,'covid_altmetrics','results','altmetric_annotations.json')\n",
    "with open(altmetrics_file,'r') as inputfile:\n",
    "    jsonfile = json.load(inputfile)\n",
    "\n",
    "for eachrecord in jsonfile[0:3]:\n",
    "    print(eachrecord)"
   ]
  },
  {
   "cell_type": "code",
   "execution_count": null,
   "id": "3778bb7b",
   "metadata": {},
   "outputs": [],
   "source": [
    "\n"
   ]
  }
 ],
 "metadata": {
  "kernelspec": {
   "display_name": "Python 3 (ipykernel)",
   "language": "python",
   "name": "python3"
  },
  "language_info": {
   "codemirror_mode": {
    "name": "ipython",
    "version": 3
   },
   "file_extension": ".py",
   "mimetype": "text/x-python",
   "name": "python",
   "nbconvert_exporter": "python",
   "pygments_lexer": "ipython3",
   "version": "3.8.5"
  }
 },
 "nbformat": 4,
 "nbformat_minor": 5
}
